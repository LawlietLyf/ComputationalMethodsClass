{
 "cells": [
  {
   "cell_type": "markdown",
   "metadata": {
    "colab_type": "text",
    "id": "view-in-github"
   },
   "source": [
    "<a href=\"https://colab.research.google.com/github/donskerclass/ComputationalMethodsClass/blob/main/Python/PythonCodeExample.ipynb\" target=\"_parent\"><img src=\"https://colab.research.google.com/assets/colab-badge.svg\" alt=\"Open In Colab\"/></a>"
   ]
  },
  {
   "cell_type": "markdown",
   "metadata": {
    "id": "ftegYiZuGhlT"
   },
   "source": [
    "## A First Notebook!\n",
    "\n",
    "This is an example of a Jupyter notebook, created in Colab.\n",
    "You can use cloud services to create literate code documents, with text and code."
   ]
  },
  {
   "cell_type": "code",
   "execution_count": 1,
   "metadata": {
    "id": "dvwjdZVHGeWs"
   },
   "outputs": [],
   "source": [
    "#How you say \"Once upon a time\" in Python\n",
    "import numpy as np "
   ]
  },
  {
   "cell_type": "markdown",
   "metadata": {
    "id": "JJvcWrwcGflt"
   },
   "source": [
    "That was a library. Let's do some math!\n",
    "$$1+1=2$$"
   ]
  },
  {
   "cell_type": "code",
   "execution_count": 2,
   "metadata": {
    "colab": {
     "base_uri": "https://localhost:8080/"
    },
    "id": "eu1d77SRHWyP",
    "outputId": "60c988a6-102a-4021-e087-f5d8e538ca9f"
   },
   "outputs": [
    {
     "data": {
      "text/plain": [
       "2"
      ]
     },
     "execution_count": 2,
     "metadata": {},
     "output_type": "execute_result"
    }
   ],
   "source": [
    "1+1"
   ]
  },
  {
   "cell_type": "markdown",
   "metadata": {
    "id": "fITdXcKXHaCj"
   },
   "source": [
    "Maybe do some math with variables."
   ]
  },
  {
   "cell_type": "code",
   "execution_count": 3,
   "metadata": {
    "colab": {
     "base_uri": "https://localhost:8080/"
    },
    "id": "_vYs2RIMHe2u",
    "outputId": "53e082eb-97a6-4926-f123-a25e2ba4376e"
   },
   "outputs": [
    {
     "data": {
      "text/plain": [
       "2"
      ]
     },
     "execution_count": 3,
     "metadata": {},
     "output_type": "execute_result"
    }
   ],
   "source": [
    "x = 1 #assign the value 1 to variable x\n",
    "y = 1\n",
    "x+y"
   ]
  },
  {
   "cell_type": "code",
   "execution_count": 5,
   "metadata": {
    "colab": {
     "base_uri": "https://localhost:8080/"
    },
    "id": "hh2hLvrpHxtR",
    "outputId": "8848b179-4696-4593-c466-0117012da3ab"
   },
   "outputs": [
    {
     "data": {
      "text/plain": [
       "-5.551115123125783e-17"
      ]
     },
     "execution_count": 5,
     "metadata": {},
     "output_type": "execute_result"
    }
   ],
   "source": [
    "0.6 - 0.2 - 0.2 - 0.2 #Floating point calculation"
   ]
  },
  {
   "cell_type": "markdown",
   "metadata": {
    "id": "jNvsXahHISAu"
   },
   "source": [
    "Why did it do that? Python, like most other numerical languages, uses *floating point* to represent numbers, with only a finite number of digits assigned to any representation. Specifically, Python uses 64 bit double precision floats."
   ]
  },
  {
   "cell_type": "code",
   "execution_count": 16,
   "metadata": {
    "colab": {
     "base_uri": "https://localhost:8080/"
    },
    "id": "8C2zxpMyJSP0",
    "outputId": "393ff293-5ea7-444f-a7f7-e7e675a9074b"
   },
   "outputs": [
    {
     "name": "stdout",
     "output_type": "stream",
     "text": [
      "2.220446049250313e-16\n",
      "-1.7976931348623157e+308\n",
      "1.7976931348623157e+308\n"
     ]
    }
   ],
   "source": [
    "print(np.finfo(np.float64).eps) #smallest difference between 1.0 and next float\n",
    "print(np.finfo(np.float64).min) #smallest number representable as a 64 bit float\n",
    "print(np.finfo(np.float64).max) #largest number representable as a 64 bit float"
   ]
  },
  {
   "cell_type": "markdown",
   "metadata": {
    "id": "_in0r7ISViTG"
   },
   "source": [
    "Find some actual Python resources to learn more at [QuantEcon](https://python-programming.quantecon.org/intro.html)."
   ]
  }
 ],
 "metadata": {
  "colab": {
   "authorship_tag": "ABX9TyMMPK0QcHu0v0KW2maY2gQ7",
   "include_colab_link": true,
   "provenance": []
  },
  "kernelspec": {
   "display_name": "Python 3 (ipykernel)",
   "language": "python",
   "name": "python3"
  },
  "language_info": {
   "codemirror_mode": {
    "name": "ipython",
    "version": 3
   },
   "file_extension": ".py",
   "mimetype": "text/x-python",
   "name": "python",
   "nbconvert_exporter": "python",
   "pygments_lexer": "ipython3",
   "version": "3.9.5"
  }
 },
 "nbformat": 4,
 "nbformat_minor": 4
}
