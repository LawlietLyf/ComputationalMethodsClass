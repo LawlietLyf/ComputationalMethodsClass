{
 "cells": [
  {
   "cell_type": "markdown",
   "id": "6a6b1dc1-3d4c-4a74-ae6e-9dc59fbbc7d6",
   "metadata": {},
   "source": [
    "## A first Julia notebook!\n",
    "This is an example of a Julia notebook, created in Jupyterlab. It runs locally, in a Julia project environment. See [Quantecon's Julia setup info](https://julia.quantecon.org/getting_started_julia/getting_started.html) to learn more."
   ]
  },
  {
   "cell_type": "code",
   "execution_count": 1,
   "id": "93ce7e63-f596-458e-95da-f03cdebb62cc",
   "metadata": {},
   "outputs": [
    {
     "data": {
      "text/plain": [
       "2"
      ]
     },
     "execution_count": 1,
     "metadata": {},
     "output_type": "execute_result"
    }
   ],
   "source": [
    "#A first code block: this is a comment, followed by some math\n",
    "1+1"
   ]
  },
  {
   "cell_type": "markdown",
   "id": "0b3746db-f930-4ac8-9e37-779b35fca06f",
   "metadata": {},
   "source": [
    "Let's use some variables to do this."
   ]
  },
  {
   "cell_type": "code",
   "execution_count": 2,
   "id": "0312549a-a33f-43ff-8699-c013759fcc39",
   "metadata": {},
   "outputs": [
    {
     "data": {
      "text/plain": [
       "2"
      ]
     },
     "execution_count": 2,
     "metadata": {},
     "output_type": "execute_result"
    }
   ],
   "source": [
    "x = 1 #assign the value 1 to variable x\n",
    "y = 1\n",
    "x+y"
   ]
  },
  {
   "cell_type": "code",
   "execution_count": 3,
   "id": "bdcd886f-e656-4a08-bdaa-c76cc8ced396",
   "metadata": {},
   "outputs": [
    {
     "data": {
      "text/plain": [
       "-5.551115123125783e-17"
      ]
     },
     "execution_count": 3,
     "metadata": {},
     "output_type": "execute_result"
    }
   ],
   "source": [
    "0.6 - 0.2 - 0.2 - 0.2 #Floating point calculation"
   ]
  },
  {
   "cell_type": "markdown",
   "id": "621c1702-f142-4320-899b-2061af12b5e1",
   "metadata": {},
   "source": [
    "Why did it do that? Julia, like most other numerical languages, uses *floating point* to represent numbers, with only a finite number of digits assigned to any representation. Specifically, Julia uses 64 bit double precision floats."
   ]
  },
  {
   "cell_type": "code",
   "execution_count": 4,
   "id": "7380e87d-0146-461f-9d51-4c669953a7eb",
   "metadata": {},
   "outputs": [
    {
     "data": {
      "text/plain": [
       "Float64"
      ]
     },
     "execution_count": 4,
     "metadata": {},
     "output_type": "execute_result"
    }
   ],
   "source": [
    "typeof(0.6) #reveal the type: here float is inferred from the presence of a decimal"
   ]
  },
  {
   "cell_type": "code",
   "execution_count": 4,
   "id": "ee40cba8-e3f2-45bf-a2c3-037d5039ef0e",
   "metadata": {},
   "outputs": [
    {
     "name": "stdout",
     "output_type": "stream",
     "text": [
      "2.220446049250313e-16\n",
      "-1.7976931348623157e308\n",
      "1.7976931348623157e308\n"
     ]
    }
   ],
   "source": [
    "println(eps()) #smallest difference between 1.0 and next float\n",
    "println(nextfloat(-Inf)) #smallest number representable as a 64 bit float\n",
    "println(prevfloat(Inf)) #largest number representable as a 64 bit float"
   ]
  },
  {
   "cell_type": "markdown",
   "id": "f887d764-8848-4257-a155-2c750e13015f",
   "metadata": {},
   "source": [
    "Find some actual Julia resources to learn more at [QuantEcon](https://julia.quantecon.org/intro.html)."
   ]
  }
 ],
 "metadata": {
  "kernelspec": {
   "display_name": "Julia 1.8.0",
   "language": "julia",
   "name": "julia-1.8"
  },
  "language_info": {
   "file_extension": ".jl",
   "mimetype": "application/julia",
   "name": "julia",
   "version": "1.8.0"
  }
 },
 "nbformat": 4,
 "nbformat_minor": 5
}
